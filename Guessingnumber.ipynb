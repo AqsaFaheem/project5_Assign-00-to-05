{
  "nbformat": 4,
  "nbformat_minor": 0,
  "metadata": {
    "colab": {
      "provenance": [],
      "authorship_tag": "ABX9TyMsD537aZ8jIVDJw3EzExiv",
      "include_colab_link": true
    },
    "kernelspec": {
      "name": "python3",
      "display_name": "Python 3"
    },
    "language_info": {
      "name": "python"
    }
  },
  "cells": [
    {
      "cell_type": "markdown",
      "metadata": {
        "id": "view-in-github",
        "colab_type": "text"
      },
      "source": [
        "<a href=\"https://colab.research.google.com/github/AqsaFaheem/project5_Assign-00-to-05/blob/main/Guessingnumber.ipynb\" target=\"_parent\"><img src=\"https://colab.research.google.com/assets/colab-badge.svg\" alt=\"Open In Colab\"/></a>"
      ]
    },
    {
      "cell_type": "code",
      "execution_count": null,
      "metadata": {
        "colab": {
          "base_uri": "https://localhost:8080/"
        },
        "id": "cSgFIqEZP9An",
        "outputId": "ad0c2386-7741-4de2-f6fa-517cf4a8c64e"
      },
      "outputs": [
        {
          "output_type": "stream",
          "name": "stdout",
          "text": [
            "Welcome to the Guess the Number Game!\n",
            "I'm thinking of a number between 1 and 100.\n",
            "Enter your guess: 67\n",
            "Too high! Try again.\n",
            "Enter your guess: 88\n",
            "Too high! Try again.\n",
            "Enter your guess: 90\n",
            "Too high! Try again.\n",
            "Enter your guess: 45\n",
            "Too high! Try again.\n",
            "Enter your guess: 67\n",
            "Too high! Try again.\n"
          ]
        }
      ],
      "source": [
        "import random\n",
        "\n",
        "def guess_the_number():\n",
        "    print(\"Welcome to the Guess the Number Game!\")\n",
        "    print(\"I'm thinking of a number between 1 and 100.\")\n",
        "\n",
        "    # Generate a random number between 1 and 100\n",
        "    number_to_guess = random.randint(1, 100)\n",
        "    attempts = 0\n",
        "    guessed = False\n",
        "\n",
        "    while not guessed:\n",
        "        # Get user input\n",
        "        user_guess = input(\"Enter your guess: \")\n",
        "\n",
        "        # Validate input\n",
        "        if not user_guess.isdigit():\n",
        "            print(\"Please enter a valid number.\")\n",
        "            continue\n",
        "\n",
        "        user_guess = int(user_guess)\n",
        "        attempts += 1\n",
        "\n",
        "        # Check the guess\n",
        "        if user_guess < number_to_guess:\n",
        "            print(\"Too low! Try again.\")\n",
        "        elif user_guess > number_to_guess:\n",
        "            print(\"Too high! Try again.\")\n",
        "        else:\n",
        "            guessed = True\n",
        "            print(f\"Congratulations! You've guessed the number {number_to_guess} in {attempts} attempts.\")\n",
        "\n",
        "# Run the game\n",
        "guess_the_number()"
      ]
    },
    {
      "cell_type": "code",
      "source": [],
      "metadata": {
        "id": "OmiDnzWAQzb3"
      },
      "execution_count": null,
      "outputs": []
    },
    {
      "cell_type": "code",
      "source": [],
      "metadata": {
        "id": "WefObvadQ0sb"
      },
      "execution_count": null,
      "outputs": []
    }
  ]
}