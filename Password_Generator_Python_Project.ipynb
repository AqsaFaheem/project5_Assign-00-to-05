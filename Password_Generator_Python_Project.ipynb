{
  "nbformat": 4,
  "nbformat_minor": 0,
  "metadata": {
    "colab": {
      "provenance": [],
      "authorship_tag": "ABX9TyNlZyArK/h78h8SuUqagIFV",
      "include_colab_link": true
    },
    "kernelspec": {
      "name": "python3",
      "display_name": "Python 3"
    },
    "language_info": {
      "name": "python"
    }
  },
  "cells": [
    {
      "cell_type": "markdown",
      "metadata": {
        "id": "view-in-github",
        "colab_type": "text"
      },
      "source": [
        "<a href=\"https://colab.research.google.com/github/AqsaFaheem/project5_Assign-00-to-05/blob/main/Password_Generator_Python_Project.ipynb\" target=\"_parent\"><img src=\"https://colab.research.google.com/assets/colab-badge.svg\" alt=\"Open In Colab\"/></a>"
      ]
    },
    {
      "cell_type": "code",
      "execution_count": null,
      "metadata": {
        "id": "gd-8jtEknGZA"
      },
      "outputs": [],
      "source": [
        "import random\n",
        "import string\n",
        "\n",
        "def generate_password(length=12, use_uppercase=True, use_digits=True, use_special_chars=True):\n",
        "    # Define the character sets\n",
        "    lowercase = string.ascii_lowercase\n",
        "    uppercase = string.ascii_uppercase if use_uppercase else ''\n",
        "    digits = string.digits if use_digits else ''\n",
        "    special_chars = string.punctuation if use_special_chars else ''\n",
        "\n",
        "    # Combine all character sets\n",
        "    all_characters = lowercase + uppercase + digits + special_chars\n",
        "\n",
        "    # Ensure at least one character from each selected category is included\n",
        "    password = []\n",
        "    if use_uppercase:\n",
        "        password.append(random.choice(uppercase))\n",
        "    if use_digits:\n",
        "        password.append(random.choice(digits))\n",
        "    if use_special_chars:\n",
        "        password.append(random.choice(special_chars))\n",
        "\n",
        "    # Fill the rest of the password length with random choices from all characters\n",
        "    password += random.choices(all_characters, k=length - len(password))\n",
        "\n",
        "    # Shuffle the password list to ensure randomness\n",
        "    random.shuffle(password)\n",
        "\n",
        "    # Join the list into a string and return\n",
        "    return ''.join(password)\n",
        "\n",
        "# User input for password generation\n",
        "try:\n",
        "    length = int(input(\"Enter the desired password length (minimum 4): \"))\n",
        "    if length < 4:\n",
        "        print(\"Password length should be at least 4.\")\n",
        "    else:\n",
        "        use_uppercase = input(\"Include uppercase letters? (y/n): \").lower() == 'y'\n",
        "        use_digits = input(\"Include digits? (y/n): \").lower() == 'y'\n",
        "        use_special_chars = input(\"Include special characters? (y/n): \").lower() == 'y'\n",
        "\n",
        "        password = generate_password(length, use_uppercase, use_digits, use_special_chars)\n",
        "        print(f\"Generated Password: {password}\")\n",
        "except ValueError:\n",
        "    print(\"Please enter a valid integer for the password length.\")"
      ]
    }
  ]
}