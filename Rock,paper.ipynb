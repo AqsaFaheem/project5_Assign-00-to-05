{
  "nbformat": 4,
  "nbformat_minor": 0,
  "metadata": {
    "colab": {
      "provenance": [],
      "authorship_tag": "ABX9TyNP/hiHY6j+Suj7fZKZw2tw",
      "include_colab_link": true
    },
    "kernelspec": {
      "name": "python3",
      "display_name": "Python 3"
    },
    "language_info": {
      "name": "python"
    }
  },
  "cells": [
    {
      "cell_type": "markdown",
      "metadata": {
        "id": "view-in-github",
        "colab_type": "text"
      },
      "source": [
        "<a href=\"https://colab.research.google.com/github/AqsaFaheem/project5_Assign-00-to-05/blob/main/Rock%2Cpaper.ipynb\" target=\"_parent\"><img src=\"https://colab.research.google.com/assets/colab-badge.svg\" alt=\"Open In Colab\"/></a>"
      ]
    },
    {
      "cell_type": "code",
      "execution_count": null,
      "metadata": {
        "colab": {
          "base_uri": "https://localhost:8080/"
        },
        "id": "M04_18ikR1kK",
        "outputId": "8d761c1d-aab7-476e-a41c-87c02819caa8"
      },
      "outputs": [
        {
          "output_type": "stream",
          "name": "stdout",
          "text": [
            "Welcome to Rock, Paper, Scissors!\n",
            "Enter your choice: rock, paper, or scissors.\n"
          ]
        }
      ],
      "source": [
        "import random\n",
        "\n",
        "def rock_paper_scissors():\n",
        "    print(\"Welcome to Rock, Paper, Scissors!\")\n",
        "    print(\"Enter your choice: rock, paper, or scissors.\")\n",
        "\n",
        "    choices = [\"rock\", \"paper\", \"scissors\"]\n",
        "\n",
        "    while True:\n",
        "        user_choice = input(\"Your choice (or type 'exit' to quit): \").lower()\n",
        "\n",
        "        if user_choice == 'exit':\n",
        "            print(\"Thanks for playing! Goodbye!\")\n",
        "            break\n",
        "\n",
        "        if user_choice not in choices:\n",
        "            print(\"Invalid choice. Please choose rock, paper, or scissors.\")\n",
        "            continue\n",
        "\n",
        "        computer_choice = random.choice(choices)\n",
        "        print(f\"Computer chose: {computer_choice}\")\n",
        "\n",
        "        if user_choice == computer_choice:\n",
        "            print(\"It's a tie!\")\n",
        "        elif (user_choice == \"rock\" and computer_choice == \"scissors\") or \\\n",
        "             (user_choice == \"paper\" and computer_choice == \"rock\") or \\\n",
        "             (user_choice == \"scissors\" and computer_choice == \"paper\"):\n",
        "            print(\"You win!\")\n",
        "        else:\n",
        "            print(\"You lose!\")\n",
        "\n",
        "# Run the game\n",
        "rock_paper_scissors()"
      ]
    }
  ]
}