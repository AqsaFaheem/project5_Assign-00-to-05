{
  "nbformat": 4,
  "nbformat_minor": 0,
  "metadata": {
    "colab": {
      "provenance": [],
      "authorship_tag": "ABX9TyPEec0qi3OVT6WQcnmOnngD",
      "include_colab_link": true
    },
    "kernelspec": {
      "name": "python3",
      "display_name": "Python 3"
    },
    "language_info": {
      "name": "python"
    }
  },
  "cells": [
    {
      "cell_type": "markdown",
      "metadata": {
        "id": "view-in-github",
        "colab_type": "text"
      },
      "source": [
        "<a href=\"https://colab.research.google.com/github/AqsaFaheem/project5_Assign-00-to-05/blob/main/assigment_04.ipynb\" target=\"_parent\"><img src=\"https://colab.research.google.com/assets/colab-badge.svg\" alt=\"Open In Colab\"/></a>"
      ]
    },
    {
      "cell_type": "code",
      "execution_count": null,
      "metadata": {
        "colab": {
          "base_uri": "https://localhost:8080/"
        },
        "id": "JeR4fZsXL6Lf",
        "outputId": "41e88546-772d-48d1-f309-88ad6a11f761"
      },
      "outputs": [
        {
          "output_type": "stream",
          "name": "stdout",
          "text": [
            "I am thinking of a number between 0 and 99...\n",
            "Enter your guess: 45\n",
            "Your guess is too low.\n",
            "Enter your guess: 67\n",
            "Your guess is too low.\n",
            "Enter your guess: 87\n",
            "Your guess is too high.\n",
            "Enter your guess: 71\n",
            "Your guess is too low.\n",
            "Enter your guess: 75\n",
            "Your guess is too high.\n",
            "Enter your guess: 72\n",
            "Your guess is too low.\n",
            "Enter your guess: 74\n",
            "Congrats! The number was: 74\n"
          ]
        }
      ],
      "source": [
        "import random\n",
        "\n",
        "def main():\n",
        "    # Generate a random number between 0 and 99\n",
        "    number_to_guess = random.randint(0, 99)\n",
        "    guess = None\n",
        "\n",
        "    print(\"I am thinking of a number between 0 and 99...\")\n",
        "\n",
        "    # Loop until the user guesses the correct number\n",
        "    while guess != number_to_guess:\n",
        "        # Get user input\n",
        "        guess = int(input(\"Enter your guess: \"))\n",
        "\n",
        "        # Check if the guess is too high, too low, or correct\n",
        "        if guess < number_to_guess:\n",
        "            print(\"Your guess is too low.\")\n",
        "        elif guess > number_to_guess:\n",
        "            print(\"Your guess is too high.\")\n",
        "        else:\n",
        "            print(f\"Congrats! The number was: {number_to_guess}\")\n",
        "\n",
        "# This provided line is required at the end of\n",
        "# Python file to call the main() function.\n",
        "if __name__ == '__main__':\n",
        "    main()"
      ]
    },
    {
      "cell_type": "code",
      "source": [
        "def main():\n",
        "    MAX_VALUE = 10000  # Constant for the maximum value\n",
        "    fib_sequence = []  # List to store Fibonacci terms\n",
        "\n",
        "    # Starting values for the Fibonacci sequence\n",
        "    a, b = 0, 1\n",
        "\n",
        "    # Generate Fibonacci terms until the maximum value is reached\n",
        "    while a < MAX_VALUE:\n",
        "        fib_sequence.append(a)  # Add the current term to the list\n",
        "        a, b = b, a + b  # Update to the next terms in the sequence\n",
        "\n",
        "    # Print the Fibonacci sequence\n",
        "    print(\"Fibonacci sequence up to 10,000:\")\n",
        "    print(\" \".join(map(str, fib_sequence)))\n",
        "\n",
        "# This provided line is required at the end of\n",
        "# Python file to call the main() function.\n",
        "if __name__ == '__main__':\n",
        "    main()"
      ],
      "metadata": {
        "colab": {
          "base_uri": "https://localhost:8080/"
        },
        "id": "wewcpvvnM2E9",
        "outputId": "3a9e0f3f-a7cb-4f76-fd35-2e0dad29f10e"
      },
      "execution_count": null,
      "outputs": [
        {
          "output_type": "stream",
          "name": "stdout",
          "text": [
            "Fibonacci sequence up to 10,000:\n",
            "0 1 1 2 3 5 8 13 21 34 55 89 144 233 377 610 987 1597 2584 4181 6765\n"
          ]
        }
      ]
    },
    {
      "cell_type": "code",
      "source": [
        "def main():\n",
        "    # Number of even numbers to print\n",
        "    count = 20\n",
        "    even_numbers = []\n",
        "\n",
        "    # Generate the first 20 even numbers\n",
        "    for i in range(count):\n",
        "        even_numbers.append(i * 2)\n",
        "\n",
        "    # Print the even numbers\n",
        "    print(\"First 20 even numbers:\")\n",
        "    print(\" \".join(map(str, even_numbers)))\n",
        "\n",
        "# This provided line is required at the end of\n",
        "# Python file to call the main() function.\n",
        "if __name__ == '__main__':\n",
        "    main()"
      ],
      "metadata": {
        "colab": {
          "base_uri": "https://localhost:8080/"
        },
        "id": "t6RVQDYCNgQe",
        "outputId": "ca3c6fdd-8395-4d7b-b50b-f9abb87949b5"
      },
      "execution_count": null,
      "outputs": [
        {
          "output_type": "stream",
          "name": "stdout",
          "text": [
            "First 20 even numbers:\n",
            "0 2 4 6 8 10 12 14 16 18 20 22 24 26 28 30 32 34 36 38\n"
          ]
        }
      ]
    },
    {
      "cell_type": "code",
      "source": [
        "def main():\n",
        "    # Define the affirmation\n",
        "    affirmation = \"I am capable of doing anything I put my mind to.\"\n",
        "\n",
        "    while True:\n",
        "        # Prompt the user to type the affirmation\n",
        "        user_input = input(\"Please type the following affirmation: \")\n",
        "\n",
        "        # Check if the user input matches the affirmation\n",
        "        if user_input == affirmation:\n",
        "            print(\"That's right! :)\")\n",
        "            break  # Exit the loop if the affirmation is correct\n",
        "        else:\n",
        "            print(\"Hmmm That was not the affirmation.\")\n",
        "\n",
        "# This provided line is required at the end of\n",
        "# Python file to call the main() function.\n",
        "if __name__ == '__main__':\n",
        "    main()\n"
      ],
      "metadata": {
        "colab": {
          "base_uri": "https://localhost:8080/"
        },
        "id": "LhezpCFxN4cU",
        "outputId": "70dab41a-b61e-40cd-c5ad-0d39d9d1d822"
      },
      "execution_count": null,
      "outputs": [
        {
          "output_type": "stream",
          "name": "stdout",
          "text": [
            "Please type the following affirmation: i am capable of doing anything i put my ming to\n",
            "Hmmm That was not the affirmation.\n",
            "Please type the following affirmation: I am capable of doing anything I put my mind to.\n",
            "That's right! :)\n"
          ]
        }
      ]
    },
    {
      "cell_type": "code",
      "source": [
        "def main():\n",
        "    # Countdown from 10 to 1\n",
        "    for i in range(10, 0, -1):\n",
        "        print(i, end=' ')\n",
        "    print(\"Liftoff!\")\n",
        "\n",
        "# This provided line is required at the end of\n",
        "# Python file to call the main() function.\n",
        "if __name__ == '__main__':\n",
        "    main()"
      ],
      "metadata": {
        "colab": {
          "base_uri": "https://localhost:8080/"
        },
        "id": "rXiByejGOnKU",
        "outputId": "f2f0d629-1c1b-43a1-a9ed-ade81c3aba47"
      },
      "execution_count": null,
      "outputs": [
        {
          "output_type": "stream",
          "name": "stdout",
          "text": [
            "10 9 8 7 6 5 4 3 2 1 Liftoff!\n"
          ]
        }
      ]
    },
    {
      "cell_type": "code",
      "source": [
        "def main():\n",
        "    # Ask the user to enter a number\n",
        "    curr_value = float(input(\"Enter a number: \"))  # Use float to allow decimal input\n",
        "\n",
        "    # Loop until curr_value is 100 or greater\n",
        "    while curr_value < 100:\n",
        "        curr_value *= 2  # Double the current value\n",
        "        print(curr_value, end=' ')  # Print the current value followed by a space\n",
        "\n",
        "# This provided line is required at the end of\n",
        "# Python file to call the main() function.\n",
        "if __name__ == '__main__':\n",
        "    main()"
      ],
      "metadata": {
        "colab": {
          "base_uri": "https://localhost:8080/"
        },
        "id": "5mvQxeAsP6Em",
        "outputId": "1b2c884e-cc74-4f40-e347-460a28b1ca37"
      },
      "execution_count": null,
      "outputs": [
        {
          "output_type": "stream",
          "name": "stdout",
          "text": [
            "Enter a number: 6\n",
            "12.0 24.0 48.0 96.0 192.0 "
          ]
        }
      ]
    }
  ]
}