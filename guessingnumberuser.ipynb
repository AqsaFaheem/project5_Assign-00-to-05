{
  "nbformat": 4,
  "nbformat_minor": 0,
  "metadata": {
    "colab": {
      "provenance": [],
      "authorship_tag": "ABX9TyMGXkQ+YeflHg5lqCe16jZp",
      "include_colab_link": true
    },
    "kernelspec": {
      "name": "python3",
      "display_name": "Python 3"
    },
    "language_info": {
      "name": "python"
    }
  },
  "cells": [
    {
      "cell_type": "markdown",
      "metadata": {
        "id": "view-in-github",
        "colab_type": "text"
      },
      "source": [
        "<a href=\"https://colab.research.google.com/github/AqsaFaheem/project5_Assign-00-to-05/blob/main/guessingnumberuser.ipynb\" target=\"_parent\"><img src=\"https://colab.research.google.com/assets/colab-badge.svg\" alt=\"Open In Colab\"/></a>"
      ]
    },
    {
      "cell_type": "code",
      "execution_count": null,
      "metadata": {
        "colab": {
          "base_uri": "https://localhost:8080/"
        },
        "id": "kyZIcjD9REzC",
        "outputId": "b78dc9c3-862a-4775-d7fb-7667c7dc851f"
      },
      "outputs": [
        {
          "output_type": "stream",
          "name": "stdout",
          "text": [
            "Welcome to the Guess the Number Game!\n",
            "I'm thinking of a number between 1 and 100.\n",
            "Enter your guess (or type 'exit' to quit): 45\n",
            "Too low! Try again.\n",
            "Enter your guess (or type 'exit' to quit): 89\n",
            "Too low! Try again.\n",
            "Enter your guess (or type 'exit' to quit): 3\n",
            "Too low! Try again.\n"
          ]
        }
      ],
      "source": [
        "import random\n",
        "\n",
        "def guess_the_number():\n",
        "    print(\"Welcome to the Guess the Number Game!\")\n",
        "    print(\"I'm thinking of a number between 1 and 100.\")\n",
        "\n",
        "    # Generate a random number between 1 and 100\n",
        "    number_to_guess = random.randint(1, 100)\n",
        "    attempts = 0\n",
        "    guessed = False\n",
        "\n",
        "    while not guessed:\n",
        "        # Get user input\n",
        "        user_guess = input(\"Enter your guess (or type 'exit' to quit): \")\n",
        "\n",
        "        # Allow the user to exit the game\n",
        "        if user_guess.lower() == 'exit':\n",
        "            print(\"Thanks for playing! Goodbye!\")\n",
        "            break\n",
        "\n",
        "        # Validate input\n",
        "        if not user_guess.isdigit():\n",
        "            print(\"Please enter a valid number.\")\n",
        "            continue\n",
        "\n",
        "        user_guess = int(user_guess)\n",
        "        attempts += 1\n",
        "\n",
        "        # Check the guess\n",
        "        if user_guess < number_to_guess:\n",
        "            print(\"Too low! Try again.\")\n",
        "        elif user_guess > number_to_guess:\n",
        "            print(\"Too high! Try again.\")\n",
        "        else:\n",
        "            guessed = True\n",
        "            print(f\"Congratulations! You've guessed the number {number_to_guess} in {attempts} attempts.\")\n",
        "\n",
        "# Run the game\n",
        "guess_the_number()"
      ]
    }
  ]
}