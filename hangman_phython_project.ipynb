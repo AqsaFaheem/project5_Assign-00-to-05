{
  "nbformat": 4,
  "nbformat_minor": 0,
  "metadata": {
    "colab": {
      "provenance": [],
      "authorship_tag": "ABX9TyNtihzXQhuJx0XD1PMrSkUI",
      "include_colab_link": true
    },
    "kernelspec": {
      "name": "python3",
      "display_name": "Python 3"
    },
    "language_info": {
      "name": "python"
    }
  },
  "cells": [
    {
      "cell_type": "markdown",
      "metadata": {
        "id": "view-in-github",
        "colab_type": "text"
      },
      "source": [
        "<a href=\"https://colab.research.google.com/github/AqsaFaheem/project4/blob/main/hangman_phython_project.ipynb\" target=\"_parent\"><img src=\"https://colab.research.google.com/assets/colab-badge.svg\" alt=\"Open In Colab\"/></a>"
      ]
    },
    {
      "cell_type": "code",
      "execution_count": null,
      "metadata": {
        "colab": {
          "base_uri": "https://localhost:8080/"
        },
        "id": "f6sH-H5QuMgE",
        "outputId": "40c2d981-7982-4fe8-e684-6e8a5496ebd4"
      },
      "outputs": [
        {
          "output_type": "stream",
          "name": "stdout",
          "text": [
            "\n",
            "  +---+\n",
            "  |   |\n",
            "      |\n",
            "      |\n",
            "      |\n",
            "      |\n",
            "=========\n",
            "_ _ _\n",
            "Guessed letters: \n"
          ]
        }
      ],
      "source": [
        "import random\n",
        "\n",
        "def main():\n",
        "    # Word selection and initialization\n",
        "    words = ['python', 'java', 'javascript', 'ruby', 'php', 'csharp']\n",
        "    word = random.choice(words).lower()\n",
        "    guessed_letters = set()\n",
        "    attempts_left = 6\n",
        "    display = ['_'] * len(word)\n",
        "\n",
        "    # Hangman ASCII art\n",
        "    HANGMAN_PICS = ['''\n",
        "  +---+\n",
        "  |   |\n",
        "      |\n",
        "      |\n",
        "      |\n",
        "      |\n",
        "=========''', '''\n",
        "  +---+\n",
        "  |   |\n",
        "  O   |\n",
        "      |\n",
        "      |\n",
        "      |\n",
        "=========''', '''\n",
        "  +---+\n",
        "  |   |\n",
        "  O   |\n",
        "  |   |\n",
        "      |\n",
        "      |\n",
        "=========''', '''\n",
        "  +---+\n",
        "  |   |\n",
        "  O   |\n",
        " /|   |\n",
        "      |\n",
        "      |\n",
        "=========''', '''\n",
        "  +---+\n",
        "  |   |\n",
        "  O   |\n",
        " /|\\  |\n",
        "      |\n",
        "      |\n",
        "=========''', '''\n",
        "  +---+\n",
        "  |   |\n",
        "  O   |\n",
        " /|\\  |\n",
        " /    |\n",
        "      |\n",
        "=========''', '''\n",
        "  +---+\n",
        "  |   |\n",
        "  O   |\n",
        " /|\\  |\n",
        " / \\  |\n",
        "      |\n",
        "=========''']\n",
        "\n",
        "    # Game loop\n",
        "    while attempts_left > 0 and '_' in display:\n",
        "        # Display current state\n",
        "        print(HANGMAN_PICS[6 - attempts_left])\n",
        "        print(' '.join(display))\n",
        "        print(f'Guessed letters: {\", \".join(sorted(guessed_letters))}')\n",
        "\n",
        "        # Get user input\n",
        "        guess = input('Guess a letter: ').lower()\n",
        "\n",
        "        # Validate input\n",
        "        if len(guess) != 1 or not guess.isalpha():\n",
        "            print('Please enter a single letter.')\n",
        "            continue\n",
        "        if guess in guessed_letters:\n",
        "            print('You already guessed that letter.')\n",
        "            continue\n",
        "\n",
        "        guessed_letters.add(guess)\n",
        "\n",
        "        # Check if guess is correct\n",
        "        if guess in word:\n",
        "            for i, letter in enumerate(word):\n",
        "                if letter == guess:\n",
        "                    display[i] = guess\n",
        "        else:\n",
        "            attempts_left -= 1\n",
        "            print(f'Wrong! Attempts left: {attempts_left}')\n",
        "\n",
        "    # Game result\n",
        "    if '_' not in display:\n",
        "        print('Congratulations! You won! The word was', word)\n",
        "    else:\n",
        "        print(HANGMAN_PICS[6])\n",
        "        print('Game over! The word was', word)\n",
        "\n",
        "if __name__ == '__main__':\n",
        "    main()"
      ]
    }
  ]
}